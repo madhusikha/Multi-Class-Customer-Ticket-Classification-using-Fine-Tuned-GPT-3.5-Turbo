{
  "cells": [
    {
      "cell_type": "code",
      "execution_count": null,
      "metadata": {
        "colab": {
          "base_uri": "https://localhost:8080/"
        },
        "id": "1yC28EXhY7p5",
        "outputId": "f1f7e53b-6c5d-4d75-a96f-ffca29e1a32f"
      },
      "outputs": [],
      "source": [
        "!pip install sqlalchemy==1.4.22\n",
        "!pip install arviz==0.16.0\n",
        "!pip install chex==0.1.7\n",
        "!pip install cloudpathlib==0.16.0\n",
        "!pip install flax==0.8.0\n",
        "!pip install ibis-framework==7.1.0\n",
        "!pip install librosa==0.10.0\n",
        "!pip install openai==1.11.1\n",
        "!pip install pydantic==1.9.0\n",
        "!pip install python-utils==3.8.2\n",
        "\n",
        "!pip uninstall typing_extensions\n",
        "!pip install typing_extensions\n",
        "\n",
        "!pip install fastapi kaleido python-multipart uvicorn cohere tiktoken\n",
        "!pip install lida==0.0.10\n",
        "\n",
        "!pip install typing-extensions==3.10.0.2\n",
        "\n",
        "!pip install openai"
      ]
    },
    {
      "cell_type": "code",
      "execution_count": 38,
      "metadata": {
        "id": "S3KxGmWyLIfm"
      },
      "outputs": [],
      "source": [
        "from openai import OpenAI"
      ]
    },
    {
      "cell_type": "code",
      "execution_count": 39,
      "metadata": {
        "id": "zXPVhBjK52dj"
      },
      "outputs": [],
      "source": [
        "import pandas as pd"
      ]
    },
    {
      "cell_type": "code",
      "execution_count": 40,
      "metadata": {
        "colab": {
          "base_uri": "https://localhost:8080/",
          "height": 206
        },
        "id": "zTD6ZZ-F6DKv",
        "outputId": "dba4a3c8-5c7e-45c0-8739-b17a9fb100b7"
      },
      "outputs": [
        {
          "data": {
            "text/html": [
              "\n",
              "  <div id=\"df-9c40c271-11c3-49b0-97fd-3af5e4c973ba\" class=\"colab-df-container\">\n",
              "    <div>\n",
              "<style scoped>\n",
              "    .dataframe tbody tr th:only-of-type {\n",
              "        vertical-align: middle;\n",
              "    }\n",
              "\n",
              "    .dataframe tbody tr th {\n",
              "        vertical-align: top;\n",
              "    }\n",
              "\n",
              "    .dataframe thead th {\n",
              "        text-align: right;\n",
              "    }\n",
              "</style>\n",
              "<table border=\"1\" class=\"dataframe\">\n",
              "  <thead>\n",
              "    <tr style=\"text-align: right;\">\n",
              "      <th></th>\n",
              "      <th>ticket</th>\n",
              "      <th>subclass</th>\n",
              "      <th>class</th>\n",
              "      <th>class id</th>\n",
              "    </tr>\n",
              "  </thead>\n",
              "  <tbody>\n",
              "    <tr>\n",
              "      <th>0</th>\n",
              "      <td>I had recently received a check for a settleme...</td>\n",
              "      <td>Problems caused by my funds being low</td>\n",
              "      <td>bank_account</td>\n",
              "      <td>1</td>\n",
              "    </tr>\n",
              "    <tr>\n",
              "      <th>1</th>\n",
              "      <td>At Bank Of America, I have had my personal &amp; b...</td>\n",
              "      <td>Problems caused by my funds being low</td>\n",
              "      <td>bank_account</td>\n",
              "      <td>1</td>\n",
              "    </tr>\n",
              "    <tr>\n",
              "      <th>2</th>\n",
              "      <td>I Bank with Wells fargo, I went in to deposit ...</td>\n",
              "      <td>Problems caused by my funds being low</td>\n",
              "      <td>bank_account</td>\n",
              "      <td>1</td>\n",
              "    </tr>\n",
              "    <tr>\n",
              "      <th>3</th>\n",
              "      <td>Charges for my purchases were shown pending on...</td>\n",
              "      <td>Problems caused by my funds being low</td>\n",
              "      <td>bank_account</td>\n",
              "      <td>1</td>\n",
              "    </tr>\n",
              "    <tr>\n",
              "      <th>4</th>\n",
              "      <td>I made purchases after my direct deposit was m...</td>\n",
              "      <td>Problems caused by my funds being low</td>\n",
              "      <td>bank_account</td>\n",
              "      <td>1</td>\n",
              "    </tr>\n",
              "  </tbody>\n",
              "</table>\n",
              "</div>\n",
              "    <div class=\"colab-df-buttons\">\n",
              "\n",
              "  <div class=\"colab-df-container\">\n",
              "    <button class=\"colab-df-convert\" onclick=\"convertToInteractive('df-9c40c271-11c3-49b0-97fd-3af5e4c973ba')\"\n",
              "            title=\"Convert this dataframe to an interactive table.\"\n",
              "            style=\"display:none;\">\n",
              "\n",
              "  <svg xmlns=\"http://www.w3.org/2000/svg\" height=\"24px\" viewBox=\"0 -960 960 960\">\n",
              "    <path d=\"M120-120v-720h720v720H120Zm60-500h600v-160H180v160Zm220 220h160v-160H400v160Zm0 220h160v-160H400v160ZM180-400h160v-160H180v160Zm440 0h160v-160H620v160ZM180-180h160v-160H180v160Zm440 0h160v-160H620v160Z\"/>\n",
              "  </svg>\n",
              "    </button>\n",
              "\n",
              "  <style>\n",
              "    .colab-df-container {\n",
              "      display:flex;\n",
              "      gap: 12px;\n",
              "    }\n",
              "\n",
              "    .colab-df-convert {\n",
              "      background-color: #E8F0FE;\n",
              "      border: none;\n",
              "      border-radius: 50%;\n",
              "      cursor: pointer;\n",
              "      display: none;\n",
              "      fill: #1967D2;\n",
              "      height: 32px;\n",
              "      padding: 0 0 0 0;\n",
              "      width: 32px;\n",
              "    }\n",
              "\n",
              "    .colab-df-convert:hover {\n",
              "      background-color: #E2EBFA;\n",
              "      box-shadow: 0px 1px 2px rgba(60, 64, 67, 0.3), 0px 1px 3px 1px rgba(60, 64, 67, 0.15);\n",
              "      fill: #174EA6;\n",
              "    }\n",
              "\n",
              "    .colab-df-buttons div {\n",
              "      margin-bottom: 4px;\n",
              "    }\n",
              "\n",
              "    [theme=dark] .colab-df-convert {\n",
              "      background-color: #3B4455;\n",
              "      fill: #D2E3FC;\n",
              "    }\n",
              "\n",
              "    [theme=dark] .colab-df-convert:hover {\n",
              "      background-color: #434B5C;\n",
              "      box-shadow: 0px 1px 3px 1px rgba(0, 0, 0, 0.15);\n",
              "      filter: drop-shadow(0px 1px 2px rgba(0, 0, 0, 0.3));\n",
              "      fill: #FFFFFF;\n",
              "    }\n",
              "  </style>\n",
              "\n",
              "    <script>\n",
              "      const buttonEl =\n",
              "        document.querySelector('#df-9c40c271-11c3-49b0-97fd-3af5e4c973ba button.colab-df-convert');\n",
              "      buttonEl.style.display =\n",
              "        google.colab.kernel.accessAllowed ? 'block' : 'none';\n",
              "\n",
              "      async function convertToInteractive(key) {\n",
              "        const element = document.querySelector('#df-9c40c271-11c3-49b0-97fd-3af5e4c973ba');\n",
              "        const dataTable =\n",
              "          await google.colab.kernel.invokeFunction('convertToInteractive',\n",
              "                                                    [key], {});\n",
              "        if (!dataTable) return;\n",
              "\n",
              "        const docLinkHtml = 'Like what you see? Visit the ' +\n",
              "          '<a target=\"_blank\" href=https://colab.research.google.com/notebooks/data_table.ipynb>data table notebook</a>'\n",
              "          + ' to learn more about interactive tables.';\n",
              "        element.innerHTML = '';\n",
              "        dataTable['output_type'] = 'display_data';\n",
              "        await google.colab.output.renderOutput(dataTable, element);\n",
              "        const docLink = document.createElement('div');\n",
              "        docLink.innerHTML = docLinkHtml;\n",
              "        element.appendChild(docLink);\n",
              "      }\n",
              "    </script>\n",
              "  </div>\n",
              "\n",
              "\n",
              "<div id=\"df-233f1ed0-0430-4b9c-b6d7-fd9f003655c6\">\n",
              "  <button class=\"colab-df-quickchart\" onclick=\"quickchart('df-233f1ed0-0430-4b9c-b6d7-fd9f003655c6')\"\n",
              "            title=\"Suggest charts\"\n",
              "            style=\"display:none;\">\n",
              "\n",
              "<svg xmlns=\"http://www.w3.org/2000/svg\" height=\"24px\"viewBox=\"0 0 24 24\"\n",
              "     width=\"24px\">\n",
              "    <g>\n",
              "        <path d=\"M19 3H5c-1.1 0-2 .9-2 2v14c0 1.1.9 2 2 2h14c1.1 0 2-.9 2-2V5c0-1.1-.9-2-2-2zM9 17H7v-7h2v7zm4 0h-2V7h2v10zm4 0h-2v-4h2v4z\"/>\n",
              "    </g>\n",
              "</svg>\n",
              "  </button>\n",
              "\n",
              "<style>\n",
              "  .colab-df-quickchart {\n",
              "      --bg-color: #E8F0FE;\n",
              "      --fill-color: #1967D2;\n",
              "      --hover-bg-color: #E2EBFA;\n",
              "      --hover-fill-color: #174EA6;\n",
              "      --disabled-fill-color: #AAA;\n",
              "      --disabled-bg-color: #DDD;\n",
              "  }\n",
              "\n",
              "  [theme=dark] .colab-df-quickchart {\n",
              "      --bg-color: #3B4455;\n",
              "      --fill-color: #D2E3FC;\n",
              "      --hover-bg-color: #434B5C;\n",
              "      --hover-fill-color: #FFFFFF;\n",
              "      --disabled-bg-color: #3B4455;\n",
              "      --disabled-fill-color: #666;\n",
              "  }\n",
              "\n",
              "  .colab-df-quickchart {\n",
              "    background-color: var(--bg-color);\n",
              "    border: none;\n",
              "    border-radius: 50%;\n",
              "    cursor: pointer;\n",
              "    display: none;\n",
              "    fill: var(--fill-color);\n",
              "    height: 32px;\n",
              "    padding: 0;\n",
              "    width: 32px;\n",
              "  }\n",
              "\n",
              "  .colab-df-quickchart:hover {\n",
              "    background-color: var(--hover-bg-color);\n",
              "    box-shadow: 0 1px 2px rgba(60, 64, 67, 0.3), 0 1px 3px 1px rgba(60, 64, 67, 0.15);\n",
              "    fill: var(--button-hover-fill-color);\n",
              "  }\n",
              "\n",
              "  .colab-df-quickchart-complete:disabled,\n",
              "  .colab-df-quickchart-complete:disabled:hover {\n",
              "    background-color: var(--disabled-bg-color);\n",
              "    fill: var(--disabled-fill-color);\n",
              "    box-shadow: none;\n",
              "  }\n",
              "\n",
              "  .colab-df-spinner {\n",
              "    border: 2px solid var(--fill-color);\n",
              "    border-color: transparent;\n",
              "    border-bottom-color: var(--fill-color);\n",
              "    animation:\n",
              "      spin 1s steps(1) infinite;\n",
              "  }\n",
              "\n",
              "  @keyframes spin {\n",
              "    0% {\n",
              "      border-color: transparent;\n",
              "      border-bottom-color: var(--fill-color);\n",
              "      border-left-color: var(--fill-color);\n",
              "    }\n",
              "    20% {\n",
              "      border-color: transparent;\n",
              "      border-left-color: var(--fill-color);\n",
              "      border-top-color: var(--fill-color);\n",
              "    }\n",
              "    30% {\n",
              "      border-color: transparent;\n",
              "      border-left-color: var(--fill-color);\n",
              "      border-top-color: var(--fill-color);\n",
              "      border-right-color: var(--fill-color);\n",
              "    }\n",
              "    40% {\n",
              "      border-color: transparent;\n",
              "      border-right-color: var(--fill-color);\n",
              "      border-top-color: var(--fill-color);\n",
              "    }\n",
              "    60% {\n",
              "      border-color: transparent;\n",
              "      border-right-color: var(--fill-color);\n",
              "    }\n",
              "    80% {\n",
              "      border-color: transparent;\n",
              "      border-right-color: var(--fill-color);\n",
              "      border-bottom-color: var(--fill-color);\n",
              "    }\n",
              "    90% {\n",
              "      border-color: transparent;\n",
              "      border-bottom-color: var(--fill-color);\n",
              "    }\n",
              "  }\n",
              "</style>\n",
              "\n",
              "  <script>\n",
              "    async function quickchart(key) {\n",
              "      const quickchartButtonEl =\n",
              "        document.querySelector('#' + key + ' button');\n",
              "      quickchartButtonEl.disabled = true;  // To prevent multiple clicks.\n",
              "      quickchartButtonEl.classList.add('colab-df-spinner');\n",
              "      try {\n",
              "        const charts = await google.colab.kernel.invokeFunction(\n",
              "            'suggestCharts', [key], {});\n",
              "      } catch (error) {\n",
              "        console.error('Error during call to suggestCharts:', error);\n",
              "      }\n",
              "      quickchartButtonEl.classList.remove('colab-df-spinner');\n",
              "      quickchartButtonEl.classList.add('colab-df-quickchart-complete');\n",
              "    }\n",
              "    (() => {\n",
              "      let quickchartButtonEl =\n",
              "        document.querySelector('#df-233f1ed0-0430-4b9c-b6d7-fd9f003655c6 button');\n",
              "      quickchartButtonEl.style.display =\n",
              "        google.colab.kernel.accessAllowed ? 'block' : 'none';\n",
              "    })();\n",
              "  </script>\n",
              "</div>\n",
              "\n",
              "    </div>\n",
              "  </div>\n"
            ],
            "text/plain": [
              "                                              ticket  \\\n",
              "0  I had recently received a check for a settleme...   \n",
              "1  At Bank Of America, I have had my personal & b...   \n",
              "2  I Bank with Wells fargo, I went in to deposit ...   \n",
              "3  Charges for my purchases were shown pending on...   \n",
              "4  I made purchases after my direct deposit was m...   \n",
              "\n",
              "                                subclass         class  class id  \n",
              "0  Problems caused by my funds being low  bank_account         1  \n",
              "1  Problems caused by my funds being low  bank_account         1  \n",
              "2  Problems caused by my funds being low  bank_account         1  \n",
              "3  Problems caused by my funds being low  bank_account         1  \n",
              "4  Problems caused by my funds being low  bank_account         1  "
            ]
          },
          "execution_count": 40,
          "metadata": {},
          "output_type": "execute_result"
        }
      ],
      "source": [
        "df = pd.read_csv('/content/bank_complaint.csv')\n",
        "df.head()"
      ]
    },
    {
      "cell_type": "code",
      "execution_count": 41,
      "metadata": {
        "colab": {
          "base_uri": "https://localhost:8080/"
        },
        "id": "09Cib2_BKUL0",
        "outputId": "1aa89cce-b9ff-43c6-d368-e86988262d8e"
      },
      "outputs": [
        {
          "data": {
            "text/plain": [
              "bank_account    100\n",
              "credit_card     100\n",
              "loan            100\n",
              "mortgage        100\n",
              "Name: class, dtype: int64"
            ]
          },
          "execution_count": 41,
          "metadata": {},
          "output_type": "execute_result"
        }
      ],
      "source": [
        "df['class'].value_counts()"
      ]
    },
    {
      "cell_type": "code",
      "execution_count": 42,
      "metadata": {
        "colab": {
          "base_uri": "https://localhost:8080/"
        },
        "id": "ZUEWVyYLAq1Q",
        "outputId": "79004a8e-7220-49d0-de85-3e0d7d710dc5"
      },
      "outputs": [
        {
          "data": {
            "text/plain": [
              "Student loan                               56\n",
              "Consumer Loan                              43\n",
              "Conventional fixed mortgage                25\n",
              "Managing an account                        25\n",
              "FHA mortgage                               24\n",
              "Using a debit or ATM card                  22\n",
              "Problems caused by my funds being low      20\n",
              "VA mortgage                                20\n",
              "Customer service                           17\n",
              "Conventional adjustable mortgage (ARM)     17\n",
              "Deposits and withdrawals                   15\n",
              "Billing disputes                           15\n",
              "Advertising and marketing                  15\n",
              "Conventional home mortgage                 14\n",
              "Payoff process                             13\n",
              "Fraud                                      12\n",
              "Account opening, closing, or management     7\n",
              "Company charging the account                7\n",
              "Cancelling account                          6\n",
              "Rewards                                     6\n",
              "Problem caused by your funds being low      4\n",
              "Credit determination                        3\n",
              "Other fee                                   2\n",
              "Transaction issue                           2\n",
              "APR or interest rate                        2\n",
              "Credit card protection                      2\n",
              "Other                                       2\n",
              "Delinquent account                          1\n",
              "Late fee                                    1\n",
              "Payday loan                                 1\n",
              "Cash advance fee                            1\n",
              "Name: subclass, dtype: int64"
            ]
          },
          "execution_count": 42,
          "metadata": {},
          "output_type": "execute_result"
        }
      ],
      "source": [
        "df['subclass'].value_counts()"
      ]
    },
    {
      "cell_type": "markdown",
      "metadata": {
        "id": "0tNjf4ytKRe5"
      },
      "source": [
        "The classes are having equal number of samples, but the subclasses are not, there is imbalance. But lets first proceed with original dataset. In the second part, we will remove samples corresponding to less frequent subclasses OR we will include synthetic data corresponding to that subclasses."
      ]
    },
    {
      "cell_type": "code",
      "execution_count": 43,
      "metadata": {
        "colab": {
          "base_uri": "https://localhost:8080/"
        },
        "id": "yo8OX-dUySEQ",
        "outputId": "455c29a2-cc1a-4e47-aa24-36d12b55552a"
      },
      "outputs": [
        {
          "name": "stdout",
          "output_type": "stream",
          "text": [
            "400 280 60 60\n"
          ]
        }
      ],
      "source": [
        "from sklearn.model_selection import train_test_split\n",
        "\n",
        "train_df, val_df = train_test_split(df, test_size=0.30, stratify = df['class'], random_state = 42)\n",
        "\n",
        "val_df, test_df = train_test_split(val_df, test_size= 0.5, stratify = val_df['class'], random_state=42)\n",
        "\n",
        "print(len(df), len(train_df), len(val_df), len(test_df))"
      ]
    },
    {
      "cell_type": "code",
      "execution_count": 44,
      "metadata": {
        "id": "NauoD41iRHZ5"
      },
      "outputs": [],
      "source": [
        "# the dataframes are sampled such that they have equal number of samples per class (not the subclass)"
      ]
    },
    {
      "cell_type": "code",
      "execution_count": 45,
      "metadata": {
        "id": "VrhoZSc8K4vv"
      },
      "outputs": [],
      "source": [
        "def gpt35_data_format(df):   # it is available in https://platform.openai.com/docs/guides/fine-tuning/preparing-your-dataset\n",
        "  dataset_json = []\n",
        "  for i, row in df.iterrows():\n",
        "    response = '{\"class\": \"' + row['class'] + '\", \"subclass\": \"' + row['subclass'] + '\"}'\n",
        "    dataset_json.append({\"messages\": [{\"role\": \"user\", \"content\": row['ticket']},{\"role\": 'assistant',\"content\": response}]})\n",
        "    # print(dataset_json)\n",
        "    # break\n",
        "  return dataset_json\n",
        "\n",
        "train_data = gpt35_data_format(train_df)\n",
        "val_data = gpt35_data_format(val_df)\n",
        "test_data = gpt35_data_format(test_df)\n"
      ]
    },
    {
      "cell_type": "code",
      "execution_count": 46,
      "metadata": {
        "colab": {
          "base_uri": "https://localhost:8080/"
        },
        "id": "EtiTwrfFOxKa",
        "outputId": "c2989ea7-c5e4-4a20-fa34-f5f0fe382d06"
      },
      "outputs": [
        {
          "data": {
            "text/plain": [
              "{'messages': [{'role': 'user',\n",
              "   'content': 'I am a  Veteran who is on a fixed income. I have been a member of  USAA  for over 10 years and the level of service and malice to the community  and veteran community should be widely addressed. I have never had an issue with them until recently when my monthly deposit was made to the account and I was unable to retrieve my funds. Without warning of written notification, my account was locked due to me owing them {$35.00} in my savings account, which I was unaware of but would have gladly rectified earlier on if I knew it existed. So to my surprise when I called to get the matter handled I was told that I have to w ait 3 business day s in order to use, withdraw or pay any bills from this account. No matter how far up the chain of command I went even to the point of tears. No one can help me. Its set in stone the computers would not allow them to override it. I express to them that this is all the money that I have and that I have my monthly bills coming out of this acco'},\n",
              "  {'role': 'assistant',\n",
              "   'content': '{\"class\": \"bank_account\", \"subclass\": \"Managing an account\"}'}]}"
            ]
          },
          "execution_count": 46,
          "metadata": {},
          "output_type": "execute_result"
        }
      ],
      "source": [
        "train_data[0]"
      ]
    },
    {
      "cell_type": "code",
      "execution_count": 47,
      "metadata": {
        "colab": {
          "base_uri": "https://localhost:8080/"
        },
        "id": "EPbnKsO2SPzn",
        "outputId": "49a7e0f4-3bf8-4872-e1fb-39f14005dbc1"
      },
      "outputs": [
        {
          "data": {
            "text/plain": [
              "{'class': 'bank_account', 'subclass': 'Managing an account'}"
            ]
          },
          "execution_count": 47,
          "metadata": {},
          "output_type": "execute_result"
        }
      ],
      "source": [
        "import json\n",
        "json.loads(train_data[0][\"messages\"][-1][\"content\"])"
      ]
    },
    {
      "cell_type": "markdown",
      "metadata": {
        "id": "6Y6oMAx8UqA2"
      },
      "source": [
        "JSONL (json new line) format"
      ]
    },
    {
      "cell_type": "code",
      "execution_count": 48,
      "metadata": {
        "id": "XTKxBUXXRAgp"
      },
      "outputs": [],
      "source": [
        "import json\n",
        "def json_new_line(data, file_name):\n",
        "  with open(file_name, 'w') as file:\n",
        "    for row in data:\n",
        "      json.dump(row, file)\n",
        "      file.write('\\n')\n",
        "\n",
        "train_file = 'train.jsonl'\n",
        "val_file = 'val.jsonl'\n",
        "\n",
        "json_new_line(train_data, train_file)\n",
        "json_new_line(val_data, val_file)"
      ]
    },
    {
      "cell_type": "code",
      "execution_count": 49,
      "metadata": {
        "id": "4ozlWjOCVrUO"
      },
      "outputs": [],
      "source": [
        "import openai"
      ]
    },
    {
      "cell_type": "markdown",
      "metadata": {
        "id": "GqmvoPtPti7d"
      },
      "source": [
        "Uploading training and validation files"
      ]
    },
    {
      "cell_type": "code",
      "execution_count": null,
      "metadata": {
        "colab": {
          "base_uri": "https://localhost:8080/"
        },
        "id": "oXwzQd6NdWOq",
        "outputId": "777e6f9c-cb1e-4d91-bfff-44ca2300f117"
      },
      "outputs": [],
      "source": [
        "from openai import OpenAI\n",
        "client = OpenAI(api_key = \"ENTER YOUR OPENAI API KEY HERE\")  # generate API key from OpenAI website\n",
        "\n",
        "training_file = client.files.create(\n",
        "  file=open(train_file, \"rb\"),\n",
        "  purpose=\"fine-tune\"\n",
        ")\n",
        "\n",
        "validation_file = client.files.create(\n",
        "  file=open(val_file, \"rb\"),\n",
        "  purpose=\"fine-tune\"\n",
        ")\n",
        "\n",
        "print(\"Training File ID: \", training_file.id)\n",
        "print(\"Validation File ID: \", validation_file.id)"
      ]
    },
    {
      "cell_type": "markdown",
      "metadata": {
        "id": "dQsod6E_tqTu"
      },
      "source": [
        "Creating fine-tuned Model"
      ]
    },
    {
      "cell_type": "code",
      "execution_count": null,
      "metadata": {
        "colab": {
          "base_uri": "https://localhost:8080/"
        },
        "id": "oWsUlIRCdWRs",
        "outputId": "3be63134-d3fa-4fda-f403-778937aed9b9"
      },
      "outputs": [],
      "source": [
        "suffix_name = 'fine-tune-gpt3.5'\n",
        "\n",
        "response = client.fine_tuning.jobs.create(\n",
        "  training_file=training_file.id,\n",
        "  validation_file=validation_file.id,\n",
        "  model=\"gpt-3.5-turbo\",\n",
        "  suffix=suffix_name\n",
        ")\n",
        "response"
      ]
    },
    {
      "cell_type": "code",
      "execution_count": null,
      "metadata": {
        "colab": {
          "base_uri": "https://localhost:8080/"
        },
        "id": "Jc8pQNP2dWUm",
        "outputId": "586f9113-11e8-4e0c-b20b-1e60d0025d10"
      },
      "outputs": [],
      "source": [
        "client.fine_tuning.jobs.list(limit=5)"
      ]
    },
    {
      "cell_type": "code",
      "execution_count": null,
      "metadata": {
        "colab": {
          "base_uri": "https://localhost:8080/"
        },
        "id": "6z6paY_BdWXb",
        "outputId": "0c26c511-fa6b-450e-ac72-418d4734f6e5"
      },
      "outputs": [],
      "source": [
        "response = client.fine_tuning.jobs.retrieve(\"ftjob-Lcx2e7jcqBGcCcPlRtpsRzVZ\")\n",
        "response"
      ]
    },
    {
      "cell_type": "code",
      "execution_count": null,
      "metadata": {
        "id": "5rvScDW52a16"
      },
      "outputs": [],
      "source": [
        "fine_tuned_model_id = response.fine_tuned_model"
      ]
    },
    {
      "cell_type": "code",
      "execution_count": null,
      "metadata": {
        "id": "NgL8tH-ydWaG"
      },
      "outputs": [],
      "source": [
        "from sklearn.metrics import accuracy_score, precision_score, recall_score, f1_score\n",
        "\n",
        "def format_test(row):\n",
        "    formatted_message = [{\"role\": \"user\", \"content\": row['ticket']}]\n",
        "    return formatted_message\n",
        "\n",
        "def predict(test_messages, fine_tuned_model_id):\n",
        "    response = client.chat.completions.create(\n",
        "        model=fine_tuned_model_id, messages=test_messages, temperature=0, max_tokens=50\n",
        "    )\n",
        "    return response.choices[0].message.content\n",
        "\n",
        "def store_predictions(test_df, fine_tuned_model_id):\n",
        "    test_df['Prediction'] = None\n",
        "    for index, row in test_df.iterrows():\n",
        "        test_message = format_test(row)\n",
        "        prediction_result = predict(test_message, fine_tuned_model_id)\n",
        "        test_df.at[index, 'Prediction'] = prediction_result\n",
        "\n",
        "    test_df.to_csv(\"predictions.csv\")\n",
        "\n",
        "store_predictions(test_df, fine_tuned_model_id)"
      ]
    },
    {
      "cell_type": "code",
      "execution_count": null,
      "metadata": {
        "colab": {
          "base_uri": "https://localhost:8080/",
          "height": 275
        },
        "id": "VjT-ppYVdWf1",
        "outputId": "78bf4288-8787-4a91-c441-048807fb3b2a"
      },
      "outputs": [
        {
          "data": {
            "text/html": [
              "\n",
              "  <div id=\"df-3f9bef7f-1cef-439f-b576-18ab721fc9e0\" class=\"colab-df-container\">\n",
              "    <div>\n",
              "<style scoped>\n",
              "    .dataframe tbody tr th:only-of-type {\n",
              "        vertical-align: middle;\n",
              "    }\n",
              "\n",
              "    .dataframe tbody tr th {\n",
              "        vertical-align: top;\n",
              "    }\n",
              "\n",
              "    .dataframe thead th {\n",
              "        text-align: right;\n",
              "    }\n",
              "</style>\n",
              "<table border=\"1\" class=\"dataframe\">\n",
              "  <thead>\n",
              "    <tr style=\"text-align: right;\">\n",
              "      <th></th>\n",
              "      <th>Unnamed: 0</th>\n",
              "      <th>ticket</th>\n",
              "      <th>subclass</th>\n",
              "      <th>class</th>\n",
              "      <th>class id</th>\n",
              "      <th>Prediction</th>\n",
              "    </tr>\n",
              "  </thead>\n",
              "  <tbody>\n",
              "    <tr>\n",
              "      <th>0</th>\n",
              "      <td>201</td>\n",
              "      <td>\"I consolidated my loans several years ago for...</td>\n",
              "      <td>Student loan</td>\n",
              "      <td>loan</td>\n",
              "      <td>3</td>\n",
              "      <td>{\"class\": \"loan\", \"subclass\": \"Student loan\"}</td>\n",
              "    </tr>\n",
              "    <tr>\n",
              "      <th>1</th>\n",
              "      <td>267</td>\n",
              "      <td>This is in regards to a private student loan f...</td>\n",
              "      <td>Student loan</td>\n",
              "      <td>loan</td>\n",
              "      <td>3</td>\n",
              "      <td>{\"class\": \"loan\", \"subclass\": \"Student loan\"}</td>\n",
              "    </tr>\n",
              "    <tr>\n",
              "      <th>2</th>\n",
              "      <td>63</td>\n",
              "      <td>I had recently received a check for a settleme...</td>\n",
              "      <td>Problems caused by my funds being low</td>\n",
              "      <td>bank_account</td>\n",
              "      <td>1</td>\n",
              "      <td>{\"class\": \"bank_account\", \"subclass\": \"Using a...</td>\n",
              "    </tr>\n",
              "    <tr>\n",
              "      <th>3</th>\n",
              "      <td>57</td>\n",
              "      <td>Opted out of overdraft coverage to keep from i...</td>\n",
              "      <td>Problems caused by my funds being low</td>\n",
              "      <td>bank_account</td>\n",
              "      <td>1</td>\n",
              "      <td>{\"class\": \"bank_account\", \"subclass\": \"Problem...</td>\n",
              "    </tr>\n",
              "    <tr>\n",
              "      <th>4</th>\n",
              "      <td>350</td>\n",
              "      <td>My current mortgage company - Greentree Servic...</td>\n",
              "      <td>Conventional fixed mortgage</td>\n",
              "      <td>mortgage</td>\n",
              "      <td>4</td>\n",
              "      <td>{\"class\": \"mortgage\", \"subclass\": \"FHA mortgage\"}</td>\n",
              "    </tr>\n",
              "  </tbody>\n",
              "</table>\n",
              "</div>\n",
              "    <div class=\"colab-df-buttons\">\n",
              "\n",
              "  <div class=\"colab-df-container\">\n",
              "    <button class=\"colab-df-convert\" onclick=\"convertToInteractive('df-3f9bef7f-1cef-439f-b576-18ab721fc9e0')\"\n",
              "            title=\"Convert this dataframe to an interactive table.\"\n",
              "            style=\"display:none;\">\n",
              "\n",
              "  <svg xmlns=\"http://www.w3.org/2000/svg\" height=\"24px\" viewBox=\"0 -960 960 960\">\n",
              "    <path d=\"M120-120v-720h720v720H120Zm60-500h600v-160H180v160Zm220 220h160v-160H400v160Zm0 220h160v-160H400v160ZM180-400h160v-160H180v160Zm440 0h160v-160H620v160ZM180-180h160v-160H180v160Zm440 0h160v-160H620v160Z\"/>\n",
              "  </svg>\n",
              "    </button>\n",
              "\n",
              "  <style>\n",
              "    .colab-df-container {\n",
              "      display:flex;\n",
              "      gap: 12px;\n",
              "    }\n",
              "\n",
              "    .colab-df-convert {\n",
              "      background-color: #E8F0FE;\n",
              "      border: none;\n",
              "      border-radius: 50%;\n",
              "      cursor: pointer;\n",
              "      display: none;\n",
              "      fill: #1967D2;\n",
              "      height: 32px;\n",
              "      padding: 0 0 0 0;\n",
              "      width: 32px;\n",
              "    }\n",
              "\n",
              "    .colab-df-convert:hover {\n",
              "      background-color: #E2EBFA;\n",
              "      box-shadow: 0px 1px 2px rgba(60, 64, 67, 0.3), 0px 1px 3px 1px rgba(60, 64, 67, 0.15);\n",
              "      fill: #174EA6;\n",
              "    }\n",
              "\n",
              "    .colab-df-buttons div {\n",
              "      margin-bottom: 4px;\n",
              "    }\n",
              "\n",
              "    [theme=dark] .colab-df-convert {\n",
              "      background-color: #3B4455;\n",
              "      fill: #D2E3FC;\n",
              "    }\n",
              "\n",
              "    [theme=dark] .colab-df-convert:hover {\n",
              "      background-color: #434B5C;\n",
              "      box-shadow: 0px 1px 3px 1px rgba(0, 0, 0, 0.15);\n",
              "      filter: drop-shadow(0px 1px 2px rgba(0, 0, 0, 0.3));\n",
              "      fill: #FFFFFF;\n",
              "    }\n",
              "  </style>\n",
              "\n",
              "    <script>\n",
              "      const buttonEl =\n",
              "        document.querySelector('#df-3f9bef7f-1cef-439f-b576-18ab721fc9e0 button.colab-df-convert');\n",
              "      buttonEl.style.display =\n",
              "        google.colab.kernel.accessAllowed ? 'block' : 'none';\n",
              "\n",
              "      async function convertToInteractive(key) {\n",
              "        const element = document.querySelector('#df-3f9bef7f-1cef-439f-b576-18ab721fc9e0');\n",
              "        const dataTable =\n",
              "          await google.colab.kernel.invokeFunction('convertToInteractive',\n",
              "                                                    [key], {});\n",
              "        if (!dataTable) return;\n",
              "\n",
              "        const docLinkHtml = 'Like what you see? Visit the ' +\n",
              "          '<a target=\"_blank\" href=https://colab.research.google.com/notebooks/data_table.ipynb>data table notebook</a>'\n",
              "          + ' to learn more about interactive tables.';\n",
              "        element.innerHTML = '';\n",
              "        dataTable['output_type'] = 'display_data';\n",
              "        await google.colab.output.renderOutput(dataTable, element);\n",
              "        const docLink = document.createElement('div');\n",
              "        docLink.innerHTML = docLinkHtml;\n",
              "        element.appendChild(docLink);\n",
              "      }\n",
              "    </script>\n",
              "  </div>\n",
              "\n",
              "\n",
              "<div id=\"df-33be15c3-d6c2-4950-b1b3-0aed86f89a37\">\n",
              "  <button class=\"colab-df-quickchart\" onclick=\"quickchart('df-33be15c3-d6c2-4950-b1b3-0aed86f89a37')\"\n",
              "            title=\"Suggest charts\"\n",
              "            style=\"display:none;\">\n",
              "\n",
              "<svg xmlns=\"http://www.w3.org/2000/svg\" height=\"24px\"viewBox=\"0 0 24 24\"\n",
              "     width=\"24px\">\n",
              "    <g>\n",
              "        <path d=\"M19 3H5c-1.1 0-2 .9-2 2v14c0 1.1.9 2 2 2h14c1.1 0 2-.9 2-2V5c0-1.1-.9-2-2-2zM9 17H7v-7h2v7zm4 0h-2V7h2v10zm4 0h-2v-4h2v4z\"/>\n",
              "    </g>\n",
              "</svg>\n",
              "  </button>\n",
              "\n",
              "<style>\n",
              "  .colab-df-quickchart {\n",
              "      --bg-color: #E8F0FE;\n",
              "      --fill-color: #1967D2;\n",
              "      --hover-bg-color: #E2EBFA;\n",
              "      --hover-fill-color: #174EA6;\n",
              "      --disabled-fill-color: #AAA;\n",
              "      --disabled-bg-color: #DDD;\n",
              "  }\n",
              "\n",
              "  [theme=dark] .colab-df-quickchart {\n",
              "      --bg-color: #3B4455;\n",
              "      --fill-color: #D2E3FC;\n",
              "      --hover-bg-color: #434B5C;\n",
              "      --hover-fill-color: #FFFFFF;\n",
              "      --disabled-bg-color: #3B4455;\n",
              "      --disabled-fill-color: #666;\n",
              "  }\n",
              "\n",
              "  .colab-df-quickchart {\n",
              "    background-color: var(--bg-color);\n",
              "    border: none;\n",
              "    border-radius: 50%;\n",
              "    cursor: pointer;\n",
              "    display: none;\n",
              "    fill: var(--fill-color);\n",
              "    height: 32px;\n",
              "    padding: 0;\n",
              "    width: 32px;\n",
              "  }\n",
              "\n",
              "  .colab-df-quickchart:hover {\n",
              "    background-color: var(--hover-bg-color);\n",
              "    box-shadow: 0 1px 2px rgba(60, 64, 67, 0.3), 0 1px 3px 1px rgba(60, 64, 67, 0.15);\n",
              "    fill: var(--button-hover-fill-color);\n",
              "  }\n",
              "\n",
              "  .colab-df-quickchart-complete:disabled,\n",
              "  .colab-df-quickchart-complete:disabled:hover {\n",
              "    background-color: var(--disabled-bg-color);\n",
              "    fill: var(--disabled-fill-color);\n",
              "    box-shadow: none;\n",
              "  }\n",
              "\n",
              "  .colab-df-spinner {\n",
              "    border: 2px solid var(--fill-color);\n",
              "    border-color: transparent;\n",
              "    border-bottom-color: var(--fill-color);\n",
              "    animation:\n",
              "      spin 1s steps(1) infinite;\n",
              "  }\n",
              "\n",
              "  @keyframes spin {\n",
              "    0% {\n",
              "      border-color: transparent;\n",
              "      border-bottom-color: var(--fill-color);\n",
              "      border-left-color: var(--fill-color);\n",
              "    }\n",
              "    20% {\n",
              "      border-color: transparent;\n",
              "      border-left-color: var(--fill-color);\n",
              "      border-top-color: var(--fill-color);\n",
              "    }\n",
              "    30% {\n",
              "      border-color: transparent;\n",
              "      border-left-color: var(--fill-color);\n",
              "      border-top-color: var(--fill-color);\n",
              "      border-right-color: var(--fill-color);\n",
              "    }\n",
              "    40% {\n",
              "      border-color: transparent;\n",
              "      border-right-color: var(--fill-color);\n",
              "      border-top-color: var(--fill-color);\n",
              "    }\n",
              "    60% {\n",
              "      border-color: transparent;\n",
              "      border-right-color: var(--fill-color);\n",
              "    }\n",
              "    80% {\n",
              "      border-color: transparent;\n",
              "      border-right-color: var(--fill-color);\n",
              "      border-bottom-color: var(--fill-color);\n",
              "    }\n",
              "    90% {\n",
              "      border-color: transparent;\n",
              "      border-bottom-color: var(--fill-color);\n",
              "    }\n",
              "  }\n",
              "</style>\n",
              "\n",
              "  <script>\n",
              "    async function quickchart(key) {\n",
              "      const quickchartButtonEl =\n",
              "        document.querySelector('#' + key + ' button');\n",
              "      quickchartButtonEl.disabled = true;  // To prevent multiple clicks.\n",
              "      quickchartButtonEl.classList.add('colab-df-spinner');\n",
              "      try {\n",
              "        const charts = await google.colab.kernel.invokeFunction(\n",
              "            'suggestCharts', [key], {});\n",
              "      } catch (error) {\n",
              "        console.error('Error during call to suggestCharts:', error);\n",
              "      }\n",
              "      quickchartButtonEl.classList.remove('colab-df-spinner');\n",
              "      quickchartButtonEl.classList.add('colab-df-quickchart-complete');\n",
              "    }\n",
              "    (() => {\n",
              "      let quickchartButtonEl =\n",
              "        document.querySelector('#df-33be15c3-d6c2-4950-b1b3-0aed86f89a37 button');\n",
              "      quickchartButtonEl.style.display =\n",
              "        google.colab.kernel.accessAllowed ? 'block' : 'none';\n",
              "    })();\n",
              "  </script>\n",
              "</div>\n",
              "\n",
              "    </div>\n",
              "  </div>\n"
            ],
            "text/plain": [
              "   Unnamed: 0                                             ticket  \\\n",
              "0         201  \"I consolidated my loans several years ago for...   \n",
              "1         267  This is in regards to a private student loan f...   \n",
              "2          63  I had recently received a check for a settleme...   \n",
              "3          57  Opted out of overdraft coverage to keep from i...   \n",
              "4         350  My current mortgage company - Greentree Servic...   \n",
              "\n",
              "                                subclass         class  class id  \\\n",
              "0                           Student loan          loan         3   \n",
              "1                           Student loan          loan         3   \n",
              "2  Problems caused by my funds being low  bank_account         1   \n",
              "3  Problems caused by my funds being low  bank_account         1   \n",
              "4            Conventional fixed mortgage      mortgage         4   \n",
              "\n",
              "                                          Prediction  \n",
              "0      {\"class\": \"loan\", \"subclass\": \"Student loan\"}  \n",
              "1      {\"class\": \"loan\", \"subclass\": \"Student loan\"}  \n",
              "2  {\"class\": \"bank_account\", \"subclass\": \"Using a...  \n",
              "3  {\"class\": \"bank_account\", \"subclass\": \"Problem...  \n",
              "4  {\"class\": \"mortgage\", \"subclass\": \"FHA mortgage\"}  "
            ]
          },
          "execution_count": 33,
          "metadata": {},
          "output_type": "execute_result"
        }
      ],
      "source": [
        "preds = pd.read_csv('/content/predictions.csv')\n",
        "preds.head()"
      ]
    },
    {
      "cell_type": "code",
      "execution_count": null,
      "metadata": {
        "colab": {
          "base_uri": "https://localhost:8080/"
        },
        "id": "TJmi_o5_dWir",
        "outputId": "615303a1-4e5c-4fb5-c755-c238463897f5"
      },
      "outputs": [
        {
          "name": "stdout",
          "output_type": "stream",
          "text": [
            "Accuracy of Class:  95\n",
            "Accuracy of Subclass:  58\n"
          ]
        }
      ],
      "source": [
        "import ast\n",
        "correct_class, correct_subclass = 0, 0\n",
        "for i, row in preds.iterrows():\n",
        "    # print(type(ast.literal_eval(row['Prediction'])))\n",
        "    if row['class'] == ast.literal_eval(row['Prediction'])['class']:\n",
        "        correct_class += 1\n",
        "    if row['subclass'] == ast.literal_eval(row['Prediction'])['subclass']:\n",
        "        correct_subclass += 1\n",
        "\n",
        "print(\"Accuracy of Class: \", round(100 * correct_class/len(preds)))\n",
        "print(\"Accuracy of Subclass: \", round(100 * correct_subclass/len(preds)))"
      ]
    },
    {
      "cell_type": "code",
      "execution_count": null,
      "metadata": {
        "id": "22_wihHcdWxZ"
      },
      "outputs": [],
      "source": []
    },
    {
      "cell_type": "markdown",
      "metadata": {
        "id": "7gvKZ4znPee0"
      },
      "source": [
        "# Method 2: Removing Rows corresponding to less frequent subclasses"
      ]
    },
    {
      "cell_type": "code",
      "execution_count": 52,
      "metadata": {
        "id": "rdxVjvCCP9Iy"
      },
      "outputs": [],
      "source": [
        "import pandas as pd\n",
        "df = pd.read_csv('/content/bank_complaint.csv')"
      ]
    },
    {
      "cell_type": "code",
      "execution_count": 53,
      "metadata": {
        "id": "7kzB3aU-dW0L"
      },
      "outputs": [],
      "source": [
        "df = df.groupby('subclass').filter(lambda x: len(x)>20)"
      ]
    },
    {
      "cell_type": "code",
      "execution_count": 54,
      "metadata": {
        "colab": {
          "base_uri": "https://localhost:8080/"
        },
        "id": "gvrhPT9FdW3R",
        "outputId": "cc639015-59d1-4986-a88c-e70a542a92ba"
      },
      "outputs": [
        {
          "data": {
            "text/plain": [
              "Student loan                   56\n",
              "Consumer Loan                  43\n",
              "Managing an account            25\n",
              "Conventional fixed mortgage    25\n",
              "FHA mortgage                   24\n",
              "Using a debit or ATM card      22\n",
              "Name: subclass, dtype: int64"
            ]
          },
          "execution_count": 54,
          "metadata": {},
          "output_type": "execute_result"
        }
      ],
      "source": [
        "df['subclass'].value_counts()"
      ]
    },
    {
      "cell_type": "code",
      "execution_count": 55,
      "metadata": {
        "colab": {
          "base_uri": "https://localhost:8080/"
        },
        "id": "jkO8tzhu525A",
        "outputId": "fc603647-33da-430d-bfa5-16940c6e628d"
      },
      "outputs": [
        {
          "data": {
            "text/plain": [
              "loan            99\n",
              "mortgage        49\n",
              "bank_account    47\n",
              "Name: class, dtype: int64"
            ]
          },
          "execution_count": 55,
          "metadata": {},
          "output_type": "execute_result"
        }
      ],
      "source": [
        "df['class'].value_counts()"
      ]
    },
    {
      "cell_type": "code",
      "execution_count": 56,
      "metadata": {
        "colab": {
          "base_uri": "https://localhost:8080/",
          "height": 175
        },
        "id": "Uv_nsUkL6Za-",
        "outputId": "c0e96d83-0772-4300-8cd8-81b7e471e4e4"
      },
      "outputs": [
        {
          "data": {
            "text/html": [
              "\n",
              "  <div id=\"df-c5a588f4-9162-444c-a6d7-7813afe4e5d8\" class=\"colab-df-container\">\n",
              "    <div>\n",
              "<style scoped>\n",
              "    .dataframe tbody tr th:only-of-type {\n",
              "        vertical-align: middle;\n",
              "    }\n",
              "\n",
              "    .dataframe tbody tr th {\n",
              "        vertical-align: top;\n",
              "    }\n",
              "\n",
              "    .dataframe thead th {\n",
              "        text-align: right;\n",
              "    }\n",
              "</style>\n",
              "<table border=\"1\" class=\"dataframe\">\n",
              "  <thead>\n",
              "    <tr style=\"text-align: right;\">\n",
              "      <th></th>\n",
              "      <th>ticket</th>\n",
              "      <th>subclass</th>\n",
              "      <th>class id</th>\n",
              "    </tr>\n",
              "    <tr>\n",
              "      <th>class</th>\n",
              "      <th></th>\n",
              "      <th></th>\n",
              "      <th></th>\n",
              "    </tr>\n",
              "  </thead>\n",
              "  <tbody>\n",
              "    <tr>\n",
              "      <th>bank_account</th>\n",
              "      <td>47</td>\n",
              "      <td>2</td>\n",
              "      <td>1</td>\n",
              "    </tr>\n",
              "    <tr>\n",
              "      <th>loan</th>\n",
              "      <td>99</td>\n",
              "      <td>2</td>\n",
              "      <td>1</td>\n",
              "    </tr>\n",
              "    <tr>\n",
              "      <th>mortgage</th>\n",
              "      <td>49</td>\n",
              "      <td>2</td>\n",
              "      <td>1</td>\n",
              "    </tr>\n",
              "  </tbody>\n",
              "</table>\n",
              "</div>\n",
              "    <div class=\"colab-df-buttons\">\n",
              "\n",
              "  <div class=\"colab-df-container\">\n",
              "    <button class=\"colab-df-convert\" onclick=\"convertToInteractive('df-c5a588f4-9162-444c-a6d7-7813afe4e5d8')\"\n",
              "            title=\"Convert this dataframe to an interactive table.\"\n",
              "            style=\"display:none;\">\n",
              "\n",
              "  <svg xmlns=\"http://www.w3.org/2000/svg\" height=\"24px\" viewBox=\"0 -960 960 960\">\n",
              "    <path d=\"M120-120v-720h720v720H120Zm60-500h600v-160H180v160Zm220 220h160v-160H400v160Zm0 220h160v-160H400v160ZM180-400h160v-160H180v160Zm440 0h160v-160H620v160ZM180-180h160v-160H180v160Zm440 0h160v-160H620v160Z\"/>\n",
              "  </svg>\n",
              "    </button>\n",
              "\n",
              "  <style>\n",
              "    .colab-df-container {\n",
              "      display:flex;\n",
              "      gap: 12px;\n",
              "    }\n",
              "\n",
              "    .colab-df-convert {\n",
              "      background-color: #E8F0FE;\n",
              "      border: none;\n",
              "      border-radius: 50%;\n",
              "      cursor: pointer;\n",
              "      display: none;\n",
              "      fill: #1967D2;\n",
              "      height: 32px;\n",
              "      padding: 0 0 0 0;\n",
              "      width: 32px;\n",
              "    }\n",
              "\n",
              "    .colab-df-convert:hover {\n",
              "      background-color: #E2EBFA;\n",
              "      box-shadow: 0px 1px 2px rgba(60, 64, 67, 0.3), 0px 1px 3px 1px rgba(60, 64, 67, 0.15);\n",
              "      fill: #174EA6;\n",
              "    }\n",
              "\n",
              "    .colab-df-buttons div {\n",
              "      margin-bottom: 4px;\n",
              "    }\n",
              "\n",
              "    [theme=dark] .colab-df-convert {\n",
              "      background-color: #3B4455;\n",
              "      fill: #D2E3FC;\n",
              "    }\n",
              "\n",
              "    [theme=dark] .colab-df-convert:hover {\n",
              "      background-color: #434B5C;\n",
              "      box-shadow: 0px 1px 3px 1px rgba(0, 0, 0, 0.15);\n",
              "      filter: drop-shadow(0px 1px 2px rgba(0, 0, 0, 0.3));\n",
              "      fill: #FFFFFF;\n",
              "    }\n",
              "  </style>\n",
              "\n",
              "    <script>\n",
              "      const buttonEl =\n",
              "        document.querySelector('#df-c5a588f4-9162-444c-a6d7-7813afe4e5d8 button.colab-df-convert');\n",
              "      buttonEl.style.display =\n",
              "        google.colab.kernel.accessAllowed ? 'block' : 'none';\n",
              "\n",
              "      async function convertToInteractive(key) {\n",
              "        const element = document.querySelector('#df-c5a588f4-9162-444c-a6d7-7813afe4e5d8');\n",
              "        const dataTable =\n",
              "          await google.colab.kernel.invokeFunction('convertToInteractive',\n",
              "                                                    [key], {});\n",
              "        if (!dataTable) return;\n",
              "\n",
              "        const docLinkHtml = 'Like what you see? Visit the ' +\n",
              "          '<a target=\"_blank\" href=https://colab.research.google.com/notebooks/data_table.ipynb>data table notebook</a>'\n",
              "          + ' to learn more about interactive tables.';\n",
              "        element.innerHTML = '';\n",
              "        dataTable['output_type'] = 'display_data';\n",
              "        await google.colab.output.renderOutput(dataTable, element);\n",
              "        const docLink = document.createElement('div');\n",
              "        docLink.innerHTML = docLinkHtml;\n",
              "        element.appendChild(docLink);\n",
              "      }\n",
              "    </script>\n",
              "  </div>\n",
              "\n",
              "\n",
              "<div id=\"df-3f159018-2f9c-411f-98a1-d978b1c5e868\">\n",
              "  <button class=\"colab-df-quickchart\" onclick=\"quickchart('df-3f159018-2f9c-411f-98a1-d978b1c5e868')\"\n",
              "            title=\"Suggest charts\"\n",
              "            style=\"display:none;\">\n",
              "\n",
              "<svg xmlns=\"http://www.w3.org/2000/svg\" height=\"24px\"viewBox=\"0 0 24 24\"\n",
              "     width=\"24px\">\n",
              "    <g>\n",
              "        <path d=\"M19 3H5c-1.1 0-2 .9-2 2v14c0 1.1.9 2 2 2h14c1.1 0 2-.9 2-2V5c0-1.1-.9-2-2-2zM9 17H7v-7h2v7zm4 0h-2V7h2v10zm4 0h-2v-4h2v4z\"/>\n",
              "    </g>\n",
              "</svg>\n",
              "  </button>\n",
              "\n",
              "<style>\n",
              "  .colab-df-quickchart {\n",
              "      --bg-color: #E8F0FE;\n",
              "      --fill-color: #1967D2;\n",
              "      --hover-bg-color: #E2EBFA;\n",
              "      --hover-fill-color: #174EA6;\n",
              "      --disabled-fill-color: #AAA;\n",
              "      --disabled-bg-color: #DDD;\n",
              "  }\n",
              "\n",
              "  [theme=dark] .colab-df-quickchart {\n",
              "      --bg-color: #3B4455;\n",
              "      --fill-color: #D2E3FC;\n",
              "      --hover-bg-color: #434B5C;\n",
              "      --hover-fill-color: #FFFFFF;\n",
              "      --disabled-bg-color: #3B4455;\n",
              "      --disabled-fill-color: #666;\n",
              "  }\n",
              "\n",
              "  .colab-df-quickchart {\n",
              "    background-color: var(--bg-color);\n",
              "    border: none;\n",
              "    border-radius: 50%;\n",
              "    cursor: pointer;\n",
              "    display: none;\n",
              "    fill: var(--fill-color);\n",
              "    height: 32px;\n",
              "    padding: 0;\n",
              "    width: 32px;\n",
              "  }\n",
              "\n",
              "  .colab-df-quickchart:hover {\n",
              "    background-color: var(--hover-bg-color);\n",
              "    box-shadow: 0 1px 2px rgba(60, 64, 67, 0.3), 0 1px 3px 1px rgba(60, 64, 67, 0.15);\n",
              "    fill: var(--button-hover-fill-color);\n",
              "  }\n",
              "\n",
              "  .colab-df-quickchart-complete:disabled,\n",
              "  .colab-df-quickchart-complete:disabled:hover {\n",
              "    background-color: var(--disabled-bg-color);\n",
              "    fill: var(--disabled-fill-color);\n",
              "    box-shadow: none;\n",
              "  }\n",
              "\n",
              "  .colab-df-spinner {\n",
              "    border: 2px solid var(--fill-color);\n",
              "    border-color: transparent;\n",
              "    border-bottom-color: var(--fill-color);\n",
              "    animation:\n",
              "      spin 1s steps(1) infinite;\n",
              "  }\n",
              "\n",
              "  @keyframes spin {\n",
              "    0% {\n",
              "      border-color: transparent;\n",
              "      border-bottom-color: var(--fill-color);\n",
              "      border-left-color: var(--fill-color);\n",
              "    }\n",
              "    20% {\n",
              "      border-color: transparent;\n",
              "      border-left-color: var(--fill-color);\n",
              "      border-top-color: var(--fill-color);\n",
              "    }\n",
              "    30% {\n",
              "      border-color: transparent;\n",
              "      border-left-color: var(--fill-color);\n",
              "      border-top-color: var(--fill-color);\n",
              "      border-right-color: var(--fill-color);\n",
              "    }\n",
              "    40% {\n",
              "      border-color: transparent;\n",
              "      border-right-color: var(--fill-color);\n",
              "      border-top-color: var(--fill-color);\n",
              "    }\n",
              "    60% {\n",
              "      border-color: transparent;\n",
              "      border-right-color: var(--fill-color);\n",
              "    }\n",
              "    80% {\n",
              "      border-color: transparent;\n",
              "      border-right-color: var(--fill-color);\n",
              "      border-bottom-color: var(--fill-color);\n",
              "    }\n",
              "    90% {\n",
              "      border-color: transparent;\n",
              "      border-bottom-color: var(--fill-color);\n",
              "    }\n",
              "  }\n",
              "</style>\n",
              "\n",
              "  <script>\n",
              "    async function quickchart(key) {\n",
              "      const quickchartButtonEl =\n",
              "        document.querySelector('#' + key + ' button');\n",
              "      quickchartButtonEl.disabled = true;  // To prevent multiple clicks.\n",
              "      quickchartButtonEl.classList.add('colab-df-spinner');\n",
              "      try {\n",
              "        const charts = await google.colab.kernel.invokeFunction(\n",
              "            'suggestCharts', [key], {});\n",
              "      } catch (error) {\n",
              "        console.error('Error during call to suggestCharts:', error);\n",
              "      }\n",
              "      quickchartButtonEl.classList.remove('colab-df-spinner');\n",
              "      quickchartButtonEl.classList.add('colab-df-quickchart-complete');\n",
              "    }\n",
              "    (() => {\n",
              "      let quickchartButtonEl =\n",
              "        document.querySelector('#df-3f159018-2f9c-411f-98a1-d978b1c5e868 button');\n",
              "      quickchartButtonEl.style.display =\n",
              "        google.colab.kernel.accessAllowed ? 'block' : 'none';\n",
              "    })();\n",
              "  </script>\n",
              "</div>\n",
              "\n",
              "    </div>\n",
              "  </div>\n"
            ],
            "text/plain": [
              "              ticket  subclass  class id\n",
              "class                                   \n",
              "bank_account      47         2         1\n",
              "loan              99         2         1\n",
              "mortgage          49         2         1"
            ]
          },
          "execution_count": 56,
          "metadata": {},
          "output_type": "execute_result"
        }
      ],
      "source": [
        "df.groupby('class').nunique()"
      ]
    },
    {
      "cell_type": "code",
      "execution_count": 57,
      "metadata": {
        "colab": {
          "base_uri": "https://localhost:8080/"
        },
        "id": "7gq9lm2zdW7C",
        "outputId": "31b1b8a6-9248-4fe9-ab6c-9dc86a4b130b"
      },
      "outputs": [
        {
          "name": "stdout",
          "output_type": "stream",
          "text": [
            "195 136 29 30\n"
          ]
        }
      ],
      "source": [
        "from sklearn.model_selection import train_test_split\n",
        "\n",
        "train_df, val_df = train_test_split(df, test_size=0.30, stratify = df['class'], random_state = 42)\n",
        "\n",
        "val_df, test_df = train_test_split(val_df, test_size= 0.5, stratify = val_df['class'], random_state=42)\n",
        "\n",
        "print(len(df), len(train_df), len(val_df), len(test_df))"
      ]
    },
    {
      "cell_type": "code",
      "execution_count": 58,
      "metadata": {
        "id": "qHldf7Q7dW-2"
      },
      "outputs": [],
      "source": [
        "def gpt35_data_format(df):   # it is available in https://platform.openai.com/docs/guides/fine-tuning/preparing-your-dataset\n",
        "  dataset_json = []\n",
        "  for i, row in df.iterrows():\n",
        "    response = '{\"class\": \"' + row['class'] + '\", \"subclass\": \"' + row['subclass'] + '\"}'\n",
        "    dataset_json.append({\"messages\": [{\"role\": \"user\", \"content\": row['ticket']},{\"role\": 'assistant',\"content\": response}]})\n",
        "  return dataset_json\n",
        "\n",
        "train_data = gpt35_data_format(train_df)\n",
        "val_data = gpt35_data_format(val_df)\n",
        "test_data = gpt35_data_format(test_df)\n"
      ]
    },
    {
      "cell_type": "code",
      "execution_count": 59,
      "metadata": {
        "id": "doXurxWrdXCm"
      },
      "outputs": [],
      "source": [
        "import json\n",
        "def json_new_line(data, file_name):\n",
        "  with open(file_name, 'w') as file:\n",
        "    for row in data:\n",
        "      json.dump(row, file)\n",
        "      file.write('\\n')\n",
        "\n",
        "train_file = 'train.jsonl'\n",
        "val_file = 'val.jsonl'\n",
        "\n",
        "json_new_line(train_data, train_file)\n",
        "json_new_line(val_data, val_file)"
      ]
    },
    {
      "cell_type": "code",
      "execution_count": null,
      "metadata": {
        "colab": {
          "base_uri": "https://localhost:8080/"
        },
        "id": "TwBJQsHxQaHG",
        "outputId": "025b0714-7f0c-4d6d-e93a-7429119768cb"
      },
      "outputs": [],
      "source": [
        "from openai import OpenAI\n",
        "client = OpenAI(api_key = \"ENTER YOUR OPENAI API KEY HERE\")  # generate API key from OpenAI website\n",
        "\n",
        "training_file = client.files.create(\n",
        "  file=open(train_file, \"rb\"),\n",
        "  purpose=\"fine-tune\"\n",
        ")\n",
        "\n",
        "validation_file = client.files.create(\n",
        "  file=open(val_file, \"rb\"),\n",
        "  purpose=\"fine-tune\"\n",
        ")\n",
        "\n",
        "print(\"Training File ID: \", training_file.id)\n",
        "print(\"Validation File ID: \", validation_file.id)"
      ]
    },
    {
      "cell_type": "code",
      "execution_count": null,
      "metadata": {
        "colab": {
          "base_uri": "https://localhost:8080/"
        },
        "id": "_QkkNi9pQd58",
        "outputId": "7ec954b6-e742-4c64-eaee-a4a13df89566"
      },
      "outputs": [],
      "source": [
        "suffix_name = 'ft-gpt3.5-method2'\n",
        "\n",
        "response = client.fine_tuning.jobs.create(\n",
        "  training_file=training_file.id,\n",
        "  validation_file=validation_file.id,\n",
        "  model=\"gpt-3.5-turbo\",\n",
        "  suffix=suffix_name\n",
        ")\n",
        "response"
      ]
    },
    {
      "cell_type": "code",
      "execution_count": 24,
      "metadata": {
        "id": "tLXIZcFHQ5Ks"
      },
      "outputs": [],
      "source": [
        "# client.fine_tuning.jobs.list(limit=5)  # to see the last 5 jobs details"
      ]
    },
    {
      "cell_type": "code",
      "execution_count": null,
      "metadata": {
        "colab": {
          "base_uri": "https://localhost:8080/"
        },
        "id": "3draE8nVQ_vo",
        "outputId": "2119d9d0-a4cf-4d89-bd24-67e308bd4a32"
      },
      "outputs": [],
      "source": [
        "response = client.fine_tuning.jobs.retrieve(\"ftjob-VyOYodMzg8dmf5zniVfTvpIJ\")  # copy the fine-tuning job id\n",
        "response"
      ]
    },
    {
      "cell_type": "code",
      "execution_count": 84,
      "metadata": {
        "id": "FY2RAjCgQjJl"
      },
      "outputs": [],
      "source": [
        "fine_tuned_model_id = response.fine_tuned_model\n",
        "\n",
        "def format_test(row):\n",
        "    formatted_message = [{\"role\": \"user\", \"content\": row['ticket']}]\n",
        "    return formatted_message\n",
        "\n",
        "def predict(test_messages, fine_tuned_model_id):\n",
        "    response = client.chat.completions.create(\n",
        "        model=fine_tuned_model_id, messages=test_messages, temperature=0, max_tokens=50\n",
        "    )\n",
        "    return response.choices[0].message.content\n",
        "\n",
        "def store_predictions(test_df, fine_tuned_model_id):\n",
        "    test_df['Prediction'] = None\n",
        "    for index, row in test_df.iterrows():\n",
        "        test_message = format_test(row)\n",
        "        prediction_result = predict(test_message, fine_tuned_model_id)\n",
        "        test_df.at[index, 'Prediction'] = prediction_result\n",
        "\n",
        "    test_df.to_csv(\"predictions.csv\")\n",
        "\n",
        "store_predictions(test_df, fine_tuned_model_id)"
      ]
    },
    {
      "cell_type": "code",
      "execution_count": 73,
      "metadata": {
        "colab": {
          "base_uri": "https://localhost:8080/",
          "height": 206
        },
        "id": "wtcKX5iSQ0Ig",
        "outputId": "9d0d80b5-bca9-4512-db6d-021ff4d80b64"
      },
      "outputs": [
        {
          "data": {
            "text/html": [
              "\n",
              "  <div id=\"df-30c6eb65-274a-4e38-96fc-9b888da7a94a\" class=\"colab-df-container\">\n",
              "    <div>\n",
              "<style scoped>\n",
              "    .dataframe tbody tr th:only-of-type {\n",
              "        vertical-align: middle;\n",
              "    }\n",
              "\n",
              "    .dataframe tbody tr th {\n",
              "        vertical-align: top;\n",
              "    }\n",
              "\n",
              "    .dataframe thead th {\n",
              "        text-align: right;\n",
              "    }\n",
              "</style>\n",
              "<table border=\"1\" class=\"dataframe\">\n",
              "  <thead>\n",
              "    <tr style=\"text-align: right;\">\n",
              "      <th></th>\n",
              "      <th>Unnamed: 0</th>\n",
              "      <th>ticket</th>\n",
              "      <th>subclass</th>\n",
              "      <th>class</th>\n",
              "      <th>class id</th>\n",
              "      <th>Prediction</th>\n",
              "    </tr>\n",
              "  </thead>\n",
              "  <tbody>\n",
              "    <tr>\n",
              "      <th>0</th>\n",
              "      <td>99</td>\n",
              "      <td>Paypal has closed my account down &amp; permanentl...</td>\n",
              "      <td>Managing an account</td>\n",
              "      <td>bank_account</td>\n",
              "      <td>1</td>\n",
              "      <td>{\"class\": \"bank_account\", \"subclass\": \"Managin...</td>\n",
              "    </tr>\n",
              "    <tr>\n",
              "      <th>1</th>\n",
              "      <td>31</td>\n",
              "      <td>I have chase premier checking account. When i ...</td>\n",
              "      <td>Managing an account</td>\n",
              "      <td>bank_account</td>\n",
              "      <td>1</td>\n",
              "      <td>{\"class\": \"bank_account\", \"subclass\": \"Managin...</td>\n",
              "    </tr>\n",
              "    <tr>\n",
              "      <th>2</th>\n",
              "      <td>11</td>\n",
              "      <td>I recently filed several transactions with PNC...</td>\n",
              "      <td>Using a debit or ATM card</td>\n",
              "      <td>bank_account</td>\n",
              "      <td>1</td>\n",
              "      <td>{\"class\": \"bank_account\", \"subclass\": \"Managin...</td>\n",
              "    </tr>\n",
              "    <tr>\n",
              "      <th>3</th>\n",
              "      <td>95</td>\n",
              "      <td>I was a customer of a local bank named PNC and...</td>\n",
              "      <td>Managing an account</td>\n",
              "      <td>bank_account</td>\n",
              "      <td>1</td>\n",
              "      <td>{\"class\": \"bank_account\", \"subclass\": \"Managin...</td>\n",
              "    </tr>\n",
              "    <tr>\n",
              "      <th>4</th>\n",
              "      <td>201</td>\n",
              "      <td>\"I consolidated my loans several years ago for...</td>\n",
              "      <td>Student loan</td>\n",
              "      <td>loan</td>\n",
              "      <td>3</td>\n",
              "      <td>{\"class\": \"loan\", \"subclass\": \"Student loan\"}</td>\n",
              "    </tr>\n",
              "  </tbody>\n",
              "</table>\n",
              "</div>\n",
              "    <div class=\"colab-df-buttons\">\n",
              "\n",
              "  <div class=\"colab-df-container\">\n",
              "    <button class=\"colab-df-convert\" onclick=\"convertToInteractive('df-30c6eb65-274a-4e38-96fc-9b888da7a94a')\"\n",
              "            title=\"Convert this dataframe to an interactive table.\"\n",
              "            style=\"display:none;\">\n",
              "\n",
              "  <svg xmlns=\"http://www.w3.org/2000/svg\" height=\"24px\" viewBox=\"0 -960 960 960\">\n",
              "    <path d=\"M120-120v-720h720v720H120Zm60-500h600v-160H180v160Zm220 220h160v-160H400v160Zm0 220h160v-160H400v160ZM180-400h160v-160H180v160Zm440 0h160v-160H620v160ZM180-180h160v-160H180v160Zm440 0h160v-160H620v160Z\"/>\n",
              "  </svg>\n",
              "    </button>\n",
              "\n",
              "  <style>\n",
              "    .colab-df-container {\n",
              "      display:flex;\n",
              "      gap: 12px;\n",
              "    }\n",
              "\n",
              "    .colab-df-convert {\n",
              "      background-color: #E8F0FE;\n",
              "      border: none;\n",
              "      border-radius: 50%;\n",
              "      cursor: pointer;\n",
              "      display: none;\n",
              "      fill: #1967D2;\n",
              "      height: 32px;\n",
              "      padding: 0 0 0 0;\n",
              "      width: 32px;\n",
              "    }\n",
              "\n",
              "    .colab-df-convert:hover {\n",
              "      background-color: #E2EBFA;\n",
              "      box-shadow: 0px 1px 2px rgba(60, 64, 67, 0.3), 0px 1px 3px 1px rgba(60, 64, 67, 0.15);\n",
              "      fill: #174EA6;\n",
              "    }\n",
              "\n",
              "    .colab-df-buttons div {\n",
              "      margin-bottom: 4px;\n",
              "    }\n",
              "\n",
              "    [theme=dark] .colab-df-convert {\n",
              "      background-color: #3B4455;\n",
              "      fill: #D2E3FC;\n",
              "    }\n",
              "\n",
              "    [theme=dark] .colab-df-convert:hover {\n",
              "      background-color: #434B5C;\n",
              "      box-shadow: 0px 1px 3px 1px rgba(0, 0, 0, 0.15);\n",
              "      filter: drop-shadow(0px 1px 2px rgba(0, 0, 0, 0.3));\n",
              "      fill: #FFFFFF;\n",
              "    }\n",
              "  </style>\n",
              "\n",
              "    <script>\n",
              "      const buttonEl =\n",
              "        document.querySelector('#df-30c6eb65-274a-4e38-96fc-9b888da7a94a button.colab-df-convert');\n",
              "      buttonEl.style.display =\n",
              "        google.colab.kernel.accessAllowed ? 'block' : 'none';\n",
              "\n",
              "      async function convertToInteractive(key) {\n",
              "        const element = document.querySelector('#df-30c6eb65-274a-4e38-96fc-9b888da7a94a');\n",
              "        const dataTable =\n",
              "          await google.colab.kernel.invokeFunction('convertToInteractive',\n",
              "                                                    [key], {});\n",
              "        if (!dataTable) return;\n",
              "\n",
              "        const docLinkHtml = 'Like what you see? Visit the ' +\n",
              "          '<a target=\"_blank\" href=https://colab.research.google.com/notebooks/data_table.ipynb>data table notebook</a>'\n",
              "          + ' to learn more about interactive tables.';\n",
              "        element.innerHTML = '';\n",
              "        dataTable['output_type'] = 'display_data';\n",
              "        await google.colab.output.renderOutput(dataTable, element);\n",
              "        const docLink = document.createElement('div');\n",
              "        docLink.innerHTML = docLinkHtml;\n",
              "        element.appendChild(docLink);\n",
              "      }\n",
              "    </script>\n",
              "  </div>\n",
              "\n",
              "\n",
              "<div id=\"df-b48a9f5c-d15c-47d3-902c-7cf9fbad6f76\">\n",
              "  <button class=\"colab-df-quickchart\" onclick=\"quickchart('df-b48a9f5c-d15c-47d3-902c-7cf9fbad6f76')\"\n",
              "            title=\"Suggest charts\"\n",
              "            style=\"display:none;\">\n",
              "\n",
              "<svg xmlns=\"http://www.w3.org/2000/svg\" height=\"24px\"viewBox=\"0 0 24 24\"\n",
              "     width=\"24px\">\n",
              "    <g>\n",
              "        <path d=\"M19 3H5c-1.1 0-2 .9-2 2v14c0 1.1.9 2 2 2h14c1.1 0 2-.9 2-2V5c0-1.1-.9-2-2-2zM9 17H7v-7h2v7zm4 0h-2V7h2v10zm4 0h-2v-4h2v4z\"/>\n",
              "    </g>\n",
              "</svg>\n",
              "  </button>\n",
              "\n",
              "<style>\n",
              "  .colab-df-quickchart {\n",
              "      --bg-color: #E8F0FE;\n",
              "      --fill-color: #1967D2;\n",
              "      --hover-bg-color: #E2EBFA;\n",
              "      --hover-fill-color: #174EA6;\n",
              "      --disabled-fill-color: #AAA;\n",
              "      --disabled-bg-color: #DDD;\n",
              "  }\n",
              "\n",
              "  [theme=dark] .colab-df-quickchart {\n",
              "      --bg-color: #3B4455;\n",
              "      --fill-color: #D2E3FC;\n",
              "      --hover-bg-color: #434B5C;\n",
              "      --hover-fill-color: #FFFFFF;\n",
              "      --disabled-bg-color: #3B4455;\n",
              "      --disabled-fill-color: #666;\n",
              "  }\n",
              "\n",
              "  .colab-df-quickchart {\n",
              "    background-color: var(--bg-color);\n",
              "    border: none;\n",
              "    border-radius: 50%;\n",
              "    cursor: pointer;\n",
              "    display: none;\n",
              "    fill: var(--fill-color);\n",
              "    height: 32px;\n",
              "    padding: 0;\n",
              "    width: 32px;\n",
              "  }\n",
              "\n",
              "  .colab-df-quickchart:hover {\n",
              "    background-color: var(--hover-bg-color);\n",
              "    box-shadow: 0 1px 2px rgba(60, 64, 67, 0.3), 0 1px 3px 1px rgba(60, 64, 67, 0.15);\n",
              "    fill: var(--button-hover-fill-color);\n",
              "  }\n",
              "\n",
              "  .colab-df-quickchart-complete:disabled,\n",
              "  .colab-df-quickchart-complete:disabled:hover {\n",
              "    background-color: var(--disabled-bg-color);\n",
              "    fill: var(--disabled-fill-color);\n",
              "    box-shadow: none;\n",
              "  }\n",
              "\n",
              "  .colab-df-spinner {\n",
              "    border: 2px solid var(--fill-color);\n",
              "    border-color: transparent;\n",
              "    border-bottom-color: var(--fill-color);\n",
              "    animation:\n",
              "      spin 1s steps(1) infinite;\n",
              "  }\n",
              "\n",
              "  @keyframes spin {\n",
              "    0% {\n",
              "      border-color: transparent;\n",
              "      border-bottom-color: var(--fill-color);\n",
              "      border-left-color: var(--fill-color);\n",
              "    }\n",
              "    20% {\n",
              "      border-color: transparent;\n",
              "      border-left-color: var(--fill-color);\n",
              "      border-top-color: var(--fill-color);\n",
              "    }\n",
              "    30% {\n",
              "      border-color: transparent;\n",
              "      border-left-color: var(--fill-color);\n",
              "      border-top-color: var(--fill-color);\n",
              "      border-right-color: var(--fill-color);\n",
              "    }\n",
              "    40% {\n",
              "      border-color: transparent;\n",
              "      border-right-color: var(--fill-color);\n",
              "      border-top-color: var(--fill-color);\n",
              "    }\n",
              "    60% {\n",
              "      border-color: transparent;\n",
              "      border-right-color: var(--fill-color);\n",
              "    }\n",
              "    80% {\n",
              "      border-color: transparent;\n",
              "      border-right-color: var(--fill-color);\n",
              "      border-bottom-color: var(--fill-color);\n",
              "    }\n",
              "    90% {\n",
              "      border-color: transparent;\n",
              "      border-bottom-color: var(--fill-color);\n",
              "    }\n",
              "  }\n",
              "</style>\n",
              "\n",
              "  <script>\n",
              "    async function quickchart(key) {\n",
              "      const quickchartButtonEl =\n",
              "        document.querySelector('#' + key + ' button');\n",
              "      quickchartButtonEl.disabled = true;  // To prevent multiple clicks.\n",
              "      quickchartButtonEl.classList.add('colab-df-spinner');\n",
              "      try {\n",
              "        const charts = await google.colab.kernel.invokeFunction(\n",
              "            'suggestCharts', [key], {});\n",
              "      } catch (error) {\n",
              "        console.error('Error during call to suggestCharts:', error);\n",
              "      }\n",
              "      quickchartButtonEl.classList.remove('colab-df-spinner');\n",
              "      quickchartButtonEl.classList.add('colab-df-quickchart-complete');\n",
              "    }\n",
              "    (() => {\n",
              "      let quickchartButtonEl =\n",
              "        document.querySelector('#df-b48a9f5c-d15c-47d3-902c-7cf9fbad6f76 button');\n",
              "      quickchartButtonEl.style.display =\n",
              "        google.colab.kernel.accessAllowed ? 'block' : 'none';\n",
              "    })();\n",
              "  </script>\n",
              "</div>\n",
              "\n",
              "    </div>\n",
              "  </div>\n"
            ],
            "text/plain": [
              "   Unnamed: 0                                             ticket  \\\n",
              "0          99  Paypal has closed my account down & permanentl...   \n",
              "1          31  I have chase premier checking account. When i ...   \n",
              "2          11  I recently filed several transactions with PNC...   \n",
              "3          95  I was a customer of a local bank named PNC and...   \n",
              "4         201  \"I consolidated my loans several years ago for...   \n",
              "\n",
              "                    subclass         class  class id  \\\n",
              "0        Managing an account  bank_account         1   \n",
              "1        Managing an account  bank_account         1   \n",
              "2  Using a debit or ATM card  bank_account         1   \n",
              "3        Managing an account  bank_account         1   \n",
              "4               Student loan          loan         3   \n",
              "\n",
              "                                          Prediction  \n",
              "0  {\"class\": \"bank_account\", \"subclass\": \"Managin...  \n",
              "1  {\"class\": \"bank_account\", \"subclass\": \"Managin...  \n",
              "2  {\"class\": \"bank_account\", \"subclass\": \"Managin...  \n",
              "3  {\"class\": \"bank_account\", \"subclass\": \"Managin...  \n",
              "4      {\"class\": \"loan\", \"subclass\": \"Student loan\"}  "
            ]
          },
          "execution_count": 73,
          "metadata": {},
          "output_type": "execute_result"
        }
      ],
      "source": [
        "preds = pd.read_csv('/content/predictions.csv')\n",
        "preds.head()"
      ]
    },
    {
      "cell_type": "code",
      "execution_count": 74,
      "metadata": {
        "colab": {
          "base_uri": "https://localhost:8080/"
        },
        "id": "uJaT7GaJQ06k",
        "outputId": "9f18c508-d17f-4985-c619-bc74262440d5"
      },
      "outputs": [
        {
          "name": "stdout",
          "output_type": "stream",
          "text": [
            "Accuracy of Class:  93\n",
            "Accuracy of Subclass:  80\n"
          ]
        }
      ],
      "source": [
        "import ast\n",
        "correct_class, correct_subclass = 0, 0\n",
        "for i, row in preds.iterrows():\n",
        "    # print(type(ast.literal_eval(row['Prediction'])))\n",
        "    if row['class'] == ast.literal_eval(row['Prediction'])['class']:\n",
        "        correct_class += 1\n",
        "    if row['subclass'] == ast.literal_eval(row['Prediction'])['subclass']:\n",
        "        correct_subclass += 1\n",
        "\n",
        "print(\"Accuracy of Class: \", round(100 * correct_class/len(preds)))\n",
        "print(\"Accuracy of Subclass: \", round(100 * correct_subclass/len(preds)))"
      ]
    },
    {
      "cell_type": "markdown",
      "metadata": {
        "id": "Vl50CI2ZPFId"
      },
      "source": [
        "# UI"
      ]
    },
    {
      "cell_type": "code",
      "execution_count": null,
      "metadata": {
        "colab": {
          "base_uri": "https://localhost:8080/"
        },
        "id": "34KDX9ejPEW8",
        "outputId": "a1e6ee8b-45f4-470d-b416-6b2740c1c712"
      },
      "outputs": [],
      "source": [
        "!pip install Gradio"
      ]
    },
    {
      "cell_type": "code",
      "execution_count": null,
      "metadata": {
        "colab": {
          "base_uri": "https://localhost:8080/",
          "height": 495
        },
        "id": "L_FK_qBKnl1A",
        "outputId": "11605196-34d6-4760-e208-d09cbe938eeb"
      },
      "outputs": [],
      "source": [
        "!pip install openai==0.28"
      ]
    },
    {
      "cell_type": "code",
      "execution_count": null,
      "metadata": {
        "colab": {
          "base_uri": "https://localhost:8080/"
        },
        "id": "-ugyoH-Hn2on",
        "outputId": "03694a98-6765-4d6e-e2eb-2c5bee207c20"
      },
      "outputs": [],
      "source": [
        "!pip install openai --upgrade"
      ]
    },
    {
      "cell_type": "code",
      "execution_count": 103,
      "metadata": {
        "colab": {
          "base_uri": "https://localhost:8080/"
        },
        "id": "7eQWrNKhiOao",
        "outputId": "3fe8ab36-a4bd-41a5-aba4-3f48e8cd4c96"
      },
      "outputs": [
        {
          "name": "stdout",
          "output_type": "stream",
          "text": [
            "class: \t  bank_account \n",
            "subclass: Managing an account\n"
          ]
        }
      ],
      "source": [
        "# testing\n",
        "import ast\n",
        "user_prompt = \"There have been unauthorized transactions on my debit card, and I'm worried about the security of my account. I haven't shared my card details, so I'm not sure how these transactions occurred. Can you please investigate and help me secure my account?\"\n",
        "formatted_message = [{\"role\": \"user\", \"content\": user_prompt}]\n",
        "response = client.chat.completions.create(\n",
        "    model=fine_tuned_model_id, messages=formatted_message, temperature=0, max_tokens=50\n",
        ")\n",
        "myd = ast.literal_eval(response.choices[0].message.content)\n",
        "\n",
        "print('class: \\t ', myd['class'], '\\nsubclass:', myd['subclass'])"
      ]
    },
    {
      "cell_type": "code",
      "execution_count": null,
      "metadata": {
        "colab": {
          "base_uri": "https://localhost:8080/",
          "height": 611
        },
        "id": "SpO6hwyxpJKI",
        "outputId": "19378682-d951-458e-c5e5-3b1d8ad67b9a"
      },
      "outputs": [],
      "source": [
        "import gradio as gr\n",
        "import ast\n",
        "\n",
        "def generate_completion(user_prompt):\n",
        "    formatted_message = [{\"role\": \"user\", \"content\": user_prompt}]\n",
        "    response = client.chat.completions.create(\n",
        "        model=fine_tuned_model_id, messages=formatted_message, temperature=0, max_tokens=50\n",
        "    )\n",
        "    myd = ast.literal_eval(response.choices[0].message.content)\n",
        "    return [myd['class'], myd['subclass']]\n",
        "\n",
        "iface = gr.Interface(fn=generate_completion,\n",
        "                     inputs=gr.Textbox(label=\"Enter Customer Complaint\"),\n",
        "                     outputs=[gr.Textbox(label=\"Predicted Class Category\"),gr.Textbox(label=\"Predicted Subclass Category\")],\n",
        "                     title=\"Bank Customer Complaint Ticket Classifier\")\n",
        "\n",
        "iface.launch(share=True)"
      ]
    },
    {
      "cell_type": "code",
      "execution_count": 30,
      "metadata": {
        "id": "QXz90wTidnbZ"
      },
      "outputs": [],
      "source": []
    }
  ],
  "metadata": {
    "accelerator": "GPU",
    "colab": {
      "gpuType": "T4",
      "provenance": []
    },
    "kernelspec": {
      "display_name": "Python 3",
      "name": "python3"
    },
    "language_info": {
      "name": "python"
    }
  },
  "nbformat": 4,
  "nbformat_minor": 0
}
